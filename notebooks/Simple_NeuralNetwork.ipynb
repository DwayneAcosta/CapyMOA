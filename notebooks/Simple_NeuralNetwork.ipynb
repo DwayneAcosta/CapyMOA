{
 "cells": [
  {
   "attachments": {},
   "cell_type": "markdown",
   "id": "b773bf8e-c420-44e1-80a6-99f75dd12268",
   "metadata": {},
   "source": [
    "## Using simple Pytorch NeuralNetwork model with a MOA evaluator\n",
    "\n",
    "* Example showing how a simple Pytorch model can be used with our ```Instance``` representation and MOA evaluator\n",
    "**Make sure you install Pytorch in your environment (https://pytorch.org/)**\n",
    "\n",
    "**notebook last updated on 03/12/2023**"
   ]
  },
  {
   "attachments": {},
   "cell_type": "markdown",
   "id": "96cb3df1-190c-49ea-959b-292559df13e6",
   "metadata": {},
   "source": [
    "## 0. Reading data and accessing x()"
   ]
  },
  {
   "cell_type": "code",
   "execution_count": 1,
   "id": "3b7be7ed-97d2-437a-9ed9-fb71e4f33328",
   "metadata": {
    "ExecuteTime": {
     "end_time": "2023-12-03T08:38:59.769504Z",
     "start_time": "2023-12-03T08:38:57.307505Z"
    },
    "execution": {
     "iopub.execute_input": "2024-01-10T22:00:08.658295Z",
     "iopub.status.busy": "2024-01-10T22:00:08.658024Z",
     "iopub.status.idle": "2024-01-10T22:00:10.171851Z",
     "shell.execute_reply": "2024-01-10T22:00:10.171311Z"
    }
   },
   "outputs": [
    {
     "name": "stdout",
     "output_type": "stream",
     "text": [
      "capymoa_root: /home/antonlee/github.com/tachyonicClock/MOABridge/src/capymoa\n",
      "MOA jar path location (config.ini): jar/moa.jar\n",
      "JVM Location (system): \n",
      "JAVA_HOME: /usr/lib/jvm/java-17-openjdk\n",
      "JVM args: ['-Xmx8g', '-Xss10M']\n",
      "Sucessfully started the JVM and added MOA jar to the class path\n",
      "x: [0.       0.056443 0.439155 0.003467 0.422915 0.414912], y: 1.0\n",
      "x: [0.021277 0.051699 0.415055 0.003467 0.422915 0.414912], y: 1.0\n",
      "x: [0.042553 0.051489 0.385004 0.003467 0.422915 0.414912], y: 1.0\n",
      "x: [0.06383  0.045485 0.314639 0.003467 0.422915 0.414912], y: 1.0\n",
      "x: [0.085106 0.042482 0.251116 0.003467 0.422915 0.414912], y: 0.0\n",
      "x: [0.106383 0.041161 0.207528 0.003467 0.422915 0.414912], y: 0.0\n",
      "x: [0.12766  0.041161 0.171824 0.003467 0.422915 0.414912], y: 0.0\n",
      "x: [0.148936 0.041161 0.152782 0.003467 0.422915 0.414912], y: 0.0\n",
      "x: [0.170213 0.041161 0.13493  0.003467 0.422915 0.414912], y: 0.0\n",
      "x: [0.191489 0.041161 0.140583 0.003467 0.422915 0.414912], y: 0.0\n",
      "x: [0.212766 0.044374 0.168997 0.003467 0.422915 0.414912], y: 1.0\n",
      "x: [0.234043 0.049868 0.212437 0.003467 0.422915 0.414912], y: 1.0\n",
      "x: [0.255319 0.051489 0.298721 0.003467 0.422915 0.414912], y: 1.0\n",
      "x: [0.276596 0.042482 0.39036  0.003467 0.422915 0.414912], y: 0.0\n",
      "x: [0.297872 0.040861 0.402261 0.003467 0.422915 0.414912], y: 0.0\n",
      "x: [0.319149 0.040711 0.462214 0.003467 0.422915 0.414912], y: 0.0\n",
      "x: [0.340426 0.040861 0.488248 0.003467 0.422915 0.414912], y: 0.0\n",
      "x: [0.361702 0.040711 0.493306 0.003467 0.422915 0.414912], y: 0.0\n",
      "x: [0.382979 0.041041 0.53258  0.003467 0.422915 0.414912], y: 0.0\n",
      "x: [0.404255 0.041161 0.546415 0.003467 0.422915 0.414912], y: 0.0\n"
     ]
    }
   ],
   "source": [
    "from capymoa.stream import stream_from_file\n",
    "\n",
    "DATA_PATH = \"../data/\"\n",
    "\n",
    "## Opening a file as a stream\n",
    "elec_stream = stream_from_file(path_to_csv_or_arff=DATA_PATH+\"electricity.csv\")\n",
    "\n",
    "elec_stream.restart()\n",
    "i = 0\n",
    "while elec_stream.has_more_instances():\n",
    "    instance = elec_stream.next_instance()\n",
    "    if i < 20: # prevent printing all the instances\n",
    "        print(f'x: {instance.x()}, y: {instance.y()}')\n",
    "    i+=1"
   ]
  },
  {
   "cell_type": "code",
   "execution_count": 2,
   "id": "38d831be-3560-4efd-89bd-1ec71f001833",
   "metadata": {
    "ExecuteTime": {
     "end_time": "2023-12-03T08:39:01.484815Z",
     "start_time": "2023-12-03T08:39:01.477002Z"
    },
    "execution": {
     "iopub.execute_input": "2024-01-10T22:00:10.173860Z",
     "iopub.status.busy": "2024-01-10T22:00:10.173651Z",
     "iopub.status.idle": "2024-01-10T22:00:10.178665Z",
     "shell.execute_reply": "2024-01-10T22:00:10.178033Z"
    }
   },
   "outputs": [
    {
     "name": "stdout",
     "output_type": "stream",
     "text": [
      "Number of classes: 2\n",
      "Number of features/attributes: 6\n",
      "    @attribute period numeric\n",
      "    1.0\n",
      "    @attribute nswprice numeric\n",
      "    0.050679\n",
      "    @attribute nswdemand numeric\n",
      "    0.288753\n",
      "    @attribute vicprice numeric\n",
      "    0.003542\n",
      "    @attribute vicdemand numeric\n",
      "    0.355256\n",
      "    @attribute transfer numeric\n",
      "    0.23114\n"
     ]
    }
   ],
   "source": [
    "# Getting some extra information about the instance through the MOA representation. \n",
    "moa_instance = instance.get_MOA_InstanceExample().getData()\n",
    "print(f'Number of classes: {moa_instance.numClasses()}')\n",
    "print(f'Number of features/attributes: {moa_instance.numInputAttributes()}')\n",
    "\n",
    "for i in range(0, moa_instance.numInputAttributes()):\n",
    "    print(f'    {moa_instance.attribute(i)}')\n",
    "    print(f'    {moa_instance.value(i)}')"
   ]
  },
  {
   "attachments": {},
   "cell_type": "markdown",
   "id": "3e2ee6cd888826d",
   "metadata": {
    "collapsed": false
   },
   "source": [
    "## 1. Using Pytorch model with MOA evaluator\n",
    "\n",
    "* Example showing how a simple Pytorch model can be used with our ```Instance``` representation and MOA evaluator\n",
    "* Uses CPU device\n",
    "* Model is initialized after receiving the first instance"
   ]
  },
  {
   "cell_type": "code",
   "execution_count": 3,
   "id": "28c87878ee6de83f",
   "metadata": {
    "ExecuteTime": {
     "end_time": "2023-12-03T08:39:14.442525Z",
     "start_time": "2023-12-03T08:39:11.361827Z"
    },
    "collapsed": false,
    "execution": {
     "iopub.execute_input": "2024-01-10T22:00:10.180636Z",
     "iopub.status.busy": "2024-01-10T22:00:10.180456Z",
     "iopub.status.idle": "2024-01-10T22:00:11.226883Z",
     "shell.execute_reply": "2024-01-10T22:00:11.226290Z"
    }
   },
   "outputs": [
    {
     "name": "stdout",
     "output_type": "stream",
     "text": [
      "Using cpu device\n"
     ]
    }
   ],
   "source": [
    "import torch\n",
    "from torch import nn\n",
    "\n",
    "# Get cpu device for training.\n",
    "device = (\"cpu\")\n",
    "print(f\"Using {device} device\")\n",
    "\n",
    "# Define model\n",
    "class NeuralNetwork(nn.Module):\n",
    "    def __init__(self, input_size=0, number_of_classes=0):\n",
    "        super().__init__()\n",
    "        self.flatten = nn.Flatten()\n",
    "        self.linear_relu_stack = nn.Sequential(\n",
    "            nn.Linear(input_size, 512),\n",
    "            nn.ReLU(),\n",
    "            nn.Linear(512, 512),\n",
    "            nn.ReLU(),\n",
    "            nn.Linear(512, number_of_classes)\n",
    "        )\n",
    "\n",
    "    def forward(self, x):\n",
    "        x = self.flatten(x)\n",
    "        logits = self.linear_relu_stack(x)\n",
    "        return logits\n",
    "\n",
    "\n",
    "model = None\n",
    "optimizer = None\n",
    "loss_fn = nn.CrossEntropyLoss()\n"
   ]
  },
  {
   "cell_type": "code",
   "execution_count": 4,
   "id": "10aa0ccfb7839e99",
   "metadata": {
    "ExecuteTime": {
     "end_time": "2023-12-03T08:40:17.878908Z",
     "start_time": "2023-12-03T08:39:23.127928Z"
    },
    "collapsed": false,
    "execution": {
     "iopub.execute_input": "2024-01-10T22:00:11.229130Z",
     "iopub.status.busy": "2024-01-10T22:00:11.228868Z",
     "iopub.status.idle": "2024-01-10T22:04:19.880471Z",
     "shell.execute_reply": "2024-01-10T22:04:19.880073Z"
    }
   },
   "outputs": [
    {
     "name": "stdout",
     "output_type": "stream",
     "text": [
      "NeuralNetwork(\n",
      "  (flatten): Flatten(start_dim=1, end_dim=-1)\n",
      "  (linear_relu_stack): Sequential(\n",
      "    (0): Linear(in_features=6, out_features=512, bias=True)\n",
      "    (1): ReLU()\n",
      "    (2): Linear(in_features=512, out_features=512, bias=True)\n",
      "    (3): ReLU()\n",
      "    (4): Linear(in_features=512, out_features=2, bias=True)\n",
      "  )\n",
      ")\n"
     ]
    },
    {
     "name": "stderr",
     "output_type": "stream",
     "text": [
      "/tmp/ipykernel_76258/3342350797.py:21: DeprecationWarning: an integer is required (got type float).  Implicit conversion to integers using __int__ is deprecated, and may be removed in a future version of Python.\n",
      "  y = torch.tensor(instance.y(), dtype=torch.long)\n"
     ]
    },
    {
     "name": "stdout",
     "output_type": "stream",
     "text": [
      "Accuracy at 1000 : 58.5\n",
      "Accuracy at 2000 : 63.24999999999999\n",
      "Accuracy at 3000 : 62.9\n",
      "Accuracy at 4000 : 63.74999999999999\n",
      "Accuracy at 5000 : 64.3\n",
      "Accuracy at 6000 : 64.28333333333333\n",
      "Accuracy at 7000 : 64.1\n",
      "Accuracy at 8000 : 64.17500000000001\n",
      "Accuracy at 9000 : 64.67777777777778\n",
      "Accuracy at 10000 : 65.09\n",
      "Accuracy at 11000 : 65.26363636363637\n",
      "Accuracy at 12000 : 65.58333333333334\n",
      "Accuracy at 13000 : 65.93846153846154\n",
      "Accuracy at 14000 : 66.64285714285715\n",
      "Accuracy at 15000 : 67.16666666666666\n",
      "Accuracy at 16000 : 67.325\n",
      "Accuracy at 17000 : 67.65882352941176\n",
      "Accuracy at 18000 : 68.12222222222222\n",
      "Accuracy at 19000 : 68.71052631578948\n",
      "Accuracy at 20000 : 69.155\n",
      "Accuracy at 21000 : 69.18095238095238\n",
      "Accuracy at 22000 : 69.58181818181818\n",
      "Accuracy at 23000 : 69.74782608695652\n",
      "Accuracy at 24000 : 70.0\n",
      "Accuracy at 25000 : 70.172\n",
      "Accuracy at 26000 : 70.33076923076923\n",
      "Accuracy at 27000 : 70.63333333333334\n",
      "Accuracy at 28000 : 70.76071428571429\n",
      "Accuracy at 29000 : 70.78965517241379\n",
      "Accuracy at 30000 : 70.86666666666666\n",
      "Accuracy at 31000 : 71.00645161290322\n",
      "Accuracy at 32000 : 70.671875\n",
      "Accuracy at 33000 : 70.69090909090909\n",
      "Accuracy at 34000 : 70.66764705882352\n",
      "Accuracy at 35000 : 70.61428571428571\n",
      "Accuracy at 36000 : 70.73888888888888\n",
      "Accuracy at 37000 : 70.74324324324324\n",
      "Accuracy at 38000 : 70.96578947368421\n",
      "Accuracy at 39000 : 71.2051282051282\n",
      "Accuracy at 40000 : 71.4125\n",
      "Accuracy at 41000 : 71.52439024390243\n",
      "Accuracy at 42000 : 71.68571428571428\n",
      "Accuracy at 43000 : 71.85348837209303\n",
      "Accuracy at 44000 : 71.88181818181818\n",
      "Accuracy at 45000 : 71.95777777777778\n",
      "Accuracy at 45312 : 71.9875529661017\n"
     ]
    }
   ],
   "source": [
    "from capymoa.evaluation import ClassificationEvaluator\n",
    "\n",
    "# Creating the evaluator\n",
    "evaluator = ClassificationEvaluator(schema=elec_stream.get_schema())\n",
    "\n",
    "## Opening a file again to strat from the beginning\n",
    "elec_stream = stream_from_file(path_to_csv_or_arff=DATA_PATH+\"electricity.csv\")\n",
    "i = 0\n",
    "while elec_stream.has_more_instances():\n",
    "    i += 1\n",
    "    instance = elec_stream.next_instance()\n",
    "    if model is None:\n",
    "        moa_instance = instance.get_MOA_InstanceExample().getData()\n",
    "        # initialize the model and send it to the device\n",
    "        model = NeuralNetwork(input_size=moa_instance.numInputAttributes(), number_of_classes=moa_instance.numClasses()).to(device)\n",
    "        # set the optimizer\n",
    "        optimizer = torch.optim.SGD(model.parameters(), lr=1e-3)\n",
    "        print(model)\n",
    "    \n",
    "    X = torch.tensor(instance.x(), dtype=torch.float32)\n",
    "    y = torch.tensor(instance.y(), dtype=torch.long)\n",
    "    # set the device and add a dimension to the tensor\n",
    "    X, y = torch.unsqueeze(X.to(device), 0), torch.unsqueeze(y.to(device),0) \n",
    "    \n",
    "    # turn off gradient collection for test\n",
    "    with torch.no_grad():\n",
    "        pred = model(X)\n",
    "        prediction = torch.argmax(pred)\n",
    "\n",
    "    # update evaluator with predicted class\n",
    "    evaluator.update(instance.y(), prediction)\n",
    "  \n",
    "    # Compute prediction error\n",
    "    pred = model(X)\n",
    "    loss = loss_fn(pred, y)\n",
    "\n",
    "    # Backpropagation\n",
    "    loss.backward()\n",
    "    optimizer.step()\n",
    "    optimizer.zero_grad()\n",
    "    \n",
    "    if i % 1000 == 0:\n",
    "        print(f'Accuracy at {i} : {evaluator.accuracy()}')\n",
    "    \n",
    "print(f'Accuracy at {i} : {evaluator.accuracy()}')"
   ]
  },
  {
   "attachments": {},
   "cell_type": "markdown",
   "id": "6f7cccf5dfb93550",
   "metadata": {
    "collapsed": false
   },
   "source": [
    "## 2. How to use TensorBoard with PyTorch"
   ]
  },
  {
   "attachments": {},
   "cell_type": "markdown",
   "id": "43078242df35b155",
   "metadata": {
    "collapsed": false
   },
   "source": [
    "Install TensorBoard through the command line to visualize data you logged\n",
    "\n",
    "```sh\n",
    "pip install tensorboard\n",
    "```"
   ]
  },
  {
   "attachments": {},
   "cell_type": "markdown",
   "id": "8ac091a2fe4cf209",
   "metadata": {
    "collapsed": false
   },
   "source": [
    "Clear any logs from previous runs\n",
    "\n",
    "```sh\n",
    "rm -rf ./runs\n",
    "```"
   ]
  },
  {
   "attachments": {},
   "cell_type": "markdown",
   "id": "db2288d0cae3250e",
   "metadata": {
    "collapsed": false
   },
   "source": [
    "Create a SummaryWriter instance."
   ]
  },
  {
   "cell_type": "code",
   "execution_count": 5,
   "id": "8ec688a5b4af052f",
   "metadata": {
    "ExecuteTime": {
     "end_time": "2023-12-03T08:46:58.941683Z",
     "start_time": "2023-12-03T08:46:58.796558Z"
    },
    "collapsed": false,
    "execution": {
     "iopub.execute_input": "2024-01-10T22:04:19.882713Z",
     "iopub.status.busy": "2024-01-10T22:04:19.882567Z",
     "iopub.status.idle": "2024-01-10T22:04:19.941477Z",
     "shell.execute_reply": "2024-01-10T22:04:19.939558Z"
    }
   },
   "outputs": [],
   "source": [
    "from torch.utils.tensorboard import SummaryWriter\n",
    "writer = SummaryWriter()"
   ]
  },
  {
   "attachments": {},
   "cell_type": "markdown",
   "id": "3bf9fc5f5d481206",
   "metadata": {
    "collapsed": false
   },
   "source": [
    "Writer will output to ./runs/ directory by default."
   ]
  },
  {
   "cell_type": "code",
   "execution_count": 6,
   "id": "b5d0d6dd10dacc37",
   "metadata": {
    "ExecuteTime": {
     "end_time": "2023-12-03T08:48:08.339851Z",
     "start_time": "2023-12-03T08:47:18.177021Z"
    },
    "collapsed": false,
    "execution": {
     "iopub.execute_input": "2024-01-10T22:04:19.948753Z",
     "iopub.status.busy": "2024-01-10T22:04:19.948032Z",
     "iopub.status.idle": "2024-01-10T22:04:55.688638Z",
     "shell.execute_reply": "2024-01-10T22:04:55.688175Z"
    }
   },
   "outputs": [
    {
     "name": "stderr",
     "output_type": "stream",
     "text": [
      "/tmp/ipykernel_76258/552737021.py:21: DeprecationWarning: an integer is required (got type float).  Implicit conversion to integers using __int__ is deprecated, and may be removed in a future version of Python.\n",
      "  y = torch.tensor(instance.y(), dtype=torch.long)\n"
     ]
    }
   ],
   "source": [
    "from capymoa.evaluation import ClassificationEvaluator\n",
    "\n",
    "# Creating the evaluator\n",
    "evaluator = ClassificationEvaluator(schema=elec_stream.get_schema())\n",
    "\n",
    "## Opening a file again to strat from the beginning\n",
    "elec_stream = stream_from_file(path_to_csv_or_arff=DATA_PATH+\"electricity.csv\")\n",
    "i = 0\n",
    "while elec_stream.has_more_instances():\n",
    "    i += 1\n",
    "    instance = elec_stream.next_instance()\n",
    "    if model is None:\n",
    "        moa_instance = instance.get_MOA_InstanceExample().getData()\n",
    "        # initialize the model and send it to the device\n",
    "        model = NeuralNetwork(input_size=moa_instance.numInputAttributes(), number_of_classes=moa_instance.numClasses()).to(device)\n",
    "        # set the optimizer\n",
    "        optimizer = torch.optim.SGD(model.parameters(), lr=1e-3)\n",
    "        print(model)\n",
    "    \n",
    "    X = torch.tensor(instance.x(), dtype=torch.float32)\n",
    "    y = torch.tensor(instance.y(), dtype=torch.long)\n",
    "    # set the device and add a dimension to the tensor\n",
    "    X, y = torch.unsqueeze(X.to(device), 0), torch.unsqueeze(y.to(device),0) \n",
    "    \n",
    "    # turn off gradient collection for test\n",
    "    with torch.no_grad():\n",
    "        pred = model(X)\n",
    "        prediction = torch.argmax(pred)\n",
    "\n",
    "    # update evaluator with predicted class\n",
    "    evaluator.update(instance.y(), prediction)\n",
    "  \n",
    "    # Compute prediction error\n",
    "    pred = model(X)\n",
    "    loss = loss_fn(pred, y)\n",
    "\n",
    "    # Backpropagation\n",
    "    loss.backward()\n",
    "    optimizer.step()\n",
    "    optimizer.zero_grad()\n",
    "    \n",
    "    if i % 1000 == 0:\n",
    "        writer.add_scalar(\"accuracy\", evaluator.accuracy(), i)\n",
    "    \n",
    "writer.add_scalar(\"accuracy\", evaluator.accuracy(), i)\n",
    "writer.flush()"
   ]
  },
  {
   "attachments": {},
   "cell_type": "markdown",
   "id": "4b0ff08045e19911",
   "metadata": {
    "collapsed": false
   },
   "source": [
    "Call flush() method to make sure that all pending events have been written to disk.\n",
    "\n",
    "See torch.utils.tensorboard tutorials to find more TensorBoard visualization types you can log.\n"
   ]
  },
  {
   "cell_type": "code",
   "execution_count": 7,
   "id": "b228ae7468b3e4f1",
   "metadata": {
    "ExecuteTime": {
     "end_time": "2023-12-03T08:49:14.066571Z",
     "start_time": "2023-12-03T08:49:14.058709Z"
    },
    "collapsed": false,
    "execution": {
     "iopub.execute_input": "2024-01-10T22:04:55.690636Z",
     "iopub.status.busy": "2024-01-10T22:04:55.690484Z",
     "iopub.status.idle": "2024-01-10T22:04:55.695982Z",
     "shell.execute_reply": "2024-01-10T22:04:55.695577Z"
    }
   },
   "outputs": [],
   "source": [
    "# If you do not need the summary writer anymore, call close() method.\n",
    "writer.close()"
   ]
  },
  {
   "attachments": {},
   "cell_type": "markdown",
   "id": "41e42734ee9ce0f1",
   "metadata": {
    "collapsed": false
   },
   "source": [
    "\n",
    "```\n",
    "# This is formatted as code\n",
    "```\n",
    "\n",
    "## Run TensorBoard\n",
    "Now, start TensorBoard, specifying the root log directory you used above. \n",
    "Argument ``logdir`` points to directory where TensorBoard will look to find \n",
    "event files that it can display. TensorBoard will recursively walk \n",
    "the directory structure rooted at ``logdir``, looking for ``.*tfevents.*`` files.\n",
    "\n",
    "```sh\n",
    "tensorboard --logdir=runs\n",
    "```\n",
    "Go to the URL it provides\n",
    "\n",
    "This dashboard shows how the accuracy change with time. \n",
    "You can use it to also track training speed, learning rate, and other \n",
    "scalar values."
   ]
  }
 ],
 "metadata": {
  "kernelspec": {
   "display_name": "Python 3 (ipykernel)",
   "language": "python",
   "name": "python3"
  },
  "language_info": {
   "codemirror_mode": {
    "name": "ipython",
    "version": 3
   },
   "file_extension": ".py",
   "mimetype": "text/x-python",
   "name": "python",
   "nbconvert_exporter": "python",
   "pygments_lexer": "ipython3",
   "version": "3.9.18"
  }
 },
 "nbformat": 4,
 "nbformat_minor": 5
}
