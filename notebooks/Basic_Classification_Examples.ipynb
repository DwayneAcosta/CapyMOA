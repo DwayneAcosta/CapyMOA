{
 "cells": [
  {
   "attachments": {},
   "cell_type": "markdown",
   "id": "326748ef-630d-42ce-9815-1e08035d82fd",
   "metadata": {},
   "source": [
    "# Basic classification examples\n",
    "\n",
    "* Using the ```test_then_train_evaluation``` and ```test_then_train_RIVER``` helper functions.\n",
    "* These are just examples on how to run several algorithms, it is kind of repetitive, but might be useful to have an example.\n",
    "* We show how to use AdaptiveRandomForest using its wrapper (```from classifiers import AdaptiveRandomForest```) and how to create MOA learners and wrap them using a MOALearner (```from learners import MOAClassifier```).\n",
    "* Examples from MOA and River use the same CSV file.\n",
    "\n",
    "**Notebook last update: 08/12/2023**"
   ]
  },
  {
   "cell_type": "code",
   "execution_count": 1,
   "id": "be91302b-3d48-449a-9eeb-4444d86d8e7c",
   "metadata": {
    "execution": {
     "iopub.execute_input": "2024-01-10T21:40:27.973819Z",
     "iopub.status.busy": "2024-01-10T21:40:27.973274Z",
     "iopub.status.idle": "2024-01-10T21:40:29.516886Z",
     "shell.execute_reply": "2024-01-10T21:40:29.516285Z"
    }
   },
   "outputs": [
    {
     "name": "stdout",
     "output_type": "stream",
     "text": [
      "capymoa_root: /home/antonlee/github.com/tachyonicClock/MOABridge/src/capymoa\n",
      "MOA jar path location (config.ini): jar/moa.jar\n",
      "JVM Location (system): \n",
      "JAVA_HOME: /usr/lib/jvm/java-17-openjdk\n",
      "JVM args: ['-Xmx8g', '-Xss10M']\n",
      "Sucessfully started the JVM and added MOA jar to the class path\n"
     ]
    }
   ],
   "source": [
    "from capymoa.evaluation import test_then_train_evaluation\n",
    "from benchmarking import test_then_train_RIVER"
   ]
  },
  {
   "cell_type": "code",
   "execution_count": 2,
   "id": "60bb1d0d-66e3-45f1-b7cc-15ae08cbe81a",
   "metadata": {
    "execution": {
     "iopub.execute_input": "2024-01-10T21:40:29.519367Z",
     "iopub.status.busy": "2024-01-10T21:40:29.519037Z",
     "iopub.status.idle": "2024-01-10T21:40:29.522312Z",
     "shell.execute_reply": "2024-01-10T21:40:29.521415Z"
    }
   },
   "outputs": [],
   "source": [
    "## Datasets paths\n",
    "csv_elec_tiny_path = '../data/electricity_tiny.csv'\n",
    "\n",
    "# csv_elec_tiny_path = './data/electricity_tiny_nominal_class.csv'"
   ]
  },
  {
   "attachments": {},
   "cell_type": "markdown",
   "id": "c7835c1a-35d0-42bb-9a4d-d990773cc0f6",
   "metadata": {},
   "source": [
    "## Examples using River"
   ]
  },
  {
   "cell_type": "code",
   "execution_count": 3,
   "id": "3d366b78-feeb-497a-8a05-578437600343",
   "metadata": {
    "execution": {
     "iopub.execute_input": "2024-01-10T21:40:29.526308Z",
     "iopub.status.busy": "2024-01-10T21:40:29.526087Z",
     "iopub.status.idle": "2024-01-10T21:40:29.535209Z",
     "shell.execute_reply": "2024-01-10T21:40:29.534686Z"
    }
   },
   "outputs": [],
   "source": [
    "import pandas as pd\n",
    "# Read the file to a dataframe, used by all examples\n",
    "river_elec_tiny = pd.read_csv(csv_elec_tiny_path).to_numpy()"
   ]
  },
  {
   "cell_type": "code",
   "execution_count": 4,
   "id": "d56e186b-a288-4953-9d95-74f25cfeff5e",
   "metadata": {
    "execution": {
     "iopub.execute_input": "2024-01-10T21:40:29.537276Z",
     "iopub.status.busy": "2024-01-10T21:40:29.537112Z",
     "iopub.status.idle": "2024-01-10T21:40:30.211130Z",
     "shell.execute_reply": "2024-01-10T21:40:30.210497Z"
    }
   },
   "outputs": [
    {
     "name": "stdout",
     "output_type": "stream",
     "text": [
      "ARFClassifier, 0.8900, 0.6701, 0.6694\n"
     ]
    }
   ],
   "source": [
    "from river.forest import ARFClassifier\n",
    "\n",
    "river_arf5 = ARFClassifier(\n",
    "    n_models=5,\n",
    "    max_features=0.60\n",
    ")\n",
    "\n",
    "acc, wallclock, cpu_time, df = test_then_train_RIVER(dataset=river_elec_tiny, model=river_arf5)\n",
    "print(f\"{river_arf5}, {acc:.4f}, {wallclock:.4f}, {cpu_time:.4f}\")"
   ]
  },
  {
   "cell_type": "code",
   "execution_count": 5,
   "id": "0d9c9d33-52b2-4442-a577-396de0bf31e7",
   "metadata": {
    "execution": {
     "iopub.execute_input": "2024-01-10T21:40:30.213544Z",
     "iopub.status.busy": "2024-01-10T21:40:30.213294Z",
     "iopub.status.idle": "2024-01-10T21:40:30.294977Z",
     "shell.execute_reply": "2024-01-10T21:40:30.294507Z"
    }
   },
   "outputs": [
    {
     "name": "stdout",
     "output_type": "stream",
     "text": [
      "HoeffdingTreeClassifier, 0.8230, 0.0781, 0.0781\n"
     ]
    }
   ],
   "source": [
    "from river.tree import HoeffdingTreeClassifier\n",
    "\n",
    "river_ht = HoeffdingTreeClassifier()\n",
    "\n",
    "acc, wallclock, cpu_time, df = test_then_train_RIVER(dataset=river_elec_tiny, model=river_ht)\n",
    "print(f\"{river_ht}, {acc:.4f}, {wallclock:.4f}, {cpu_time:.4f}\")"
   ]
  },
  {
   "cell_type": "code",
   "execution_count": 6,
   "id": "84f29ddd-2e97-4c31-945a-1129e8ca1833",
   "metadata": {
    "execution": {
     "iopub.execute_input": "2024-01-10T21:40:30.297314Z",
     "iopub.status.busy": "2024-01-10T21:40:30.297033Z",
     "iopub.status.idle": "2024-01-10T21:40:33.157500Z",
     "shell.execute_reply": "2024-01-10T21:40:33.157005Z"
    }
   },
   "outputs": [
    {
     "name": "stdout",
     "output_type": "stream",
     "text": [
      "KNNClassifier, 0.7560, 2.8551, 2.8530\n"
     ]
    }
   ],
   "source": [
    "from river.neighbors import KNNClassifier\n",
    "\n",
    "river_knn = KNNClassifier()\n",
    "\n",
    "acc, wallclock, cpu_time, df = test_then_train_RIVER(dataset=river_elec_tiny, model=river_knn)\n",
    "print(f\"{river_knn}, {acc:.4f}, {wallclock:.4f}, {cpu_time:.4f}\")"
   ]
  },
  {
   "cell_type": "code",
   "execution_count": 7,
   "id": "47e22fbe-c42a-4cf0-9f40-0c408fc8185b",
   "metadata": {
    "execution": {
     "iopub.execute_input": "2024-01-10T21:40:33.159483Z",
     "iopub.status.busy": "2024-01-10T21:40:33.159332Z",
     "iopub.status.idle": "2024-01-10T21:40:33.223952Z",
     "shell.execute_reply": "2024-01-10T21:40:33.223421Z"
    }
   },
   "outputs": [
    {
     "name": "stdout",
     "output_type": "stream",
     "text": [
      "GaussianNB, 0.8490, 0.0612, 0.0613\n"
     ]
    }
   ],
   "source": [
    "from river.naive_bayes import GaussianNB\n",
    "\n",
    "river_gnb = GaussianNB()\n",
    "\n",
    "acc, wallclock, cpu_time, df = test_then_train_RIVER(dataset=river_elec_tiny, model=river_gnb)\n",
    "print(f\"{river_gnb}, {acc:.4f}, {wallclock:.4f}, {cpu_time:.4f}\")"
   ]
  },
  {
   "cell_type": "code",
   "execution_count": 8,
   "id": "7f59847d-b33b-431e-8ddb-ee0a3a5375b7",
   "metadata": {
    "execution": {
     "iopub.execute_input": "2024-01-10T21:40:33.226057Z",
     "iopub.status.busy": "2024-01-10T21:40:33.225906Z",
     "iopub.status.idle": "2024-01-10T21:40:34.927724Z",
     "shell.execute_reply": "2024-01-10T21:40:34.927240Z"
    }
   },
   "outputs": [
    {
     "name": "stdout",
     "output_type": "stream",
     "text": [
      "SRPClassifier(HoeffdingTreeClassifier), 0.8950, 1.6984, 1.6968\n"
     ]
    }
   ],
   "source": [
    "from river.ensemble.streaming_random_patches import SRPClassifier\n",
    "\n",
    "river_srp = SRPClassifier(\n",
    "    n_models=5,\n",
    "    subspace_size=0.6\n",
    ")\n",
    "\n",
    "acc, wallclock, cpu_time, df = test_then_train_RIVER(dataset=river_elec_tiny, model=river_srp)\n",
    "print(f\"{river_srp}, {acc:.4f}, {wallclock:.4f}, {cpu_time:.4f}\")"
   ]
  },
  {
   "cell_type": "code",
   "execution_count": 9,
   "id": "e25a96f4-7612-445b-b210-838d474fba2d",
   "metadata": {
    "execution": {
     "iopub.execute_input": "2024-01-10T21:40:34.929718Z",
     "iopub.status.busy": "2024-01-10T21:40:34.929571Z",
     "iopub.status.idle": "2024-01-10T21:40:35.349525Z",
     "shell.execute_reply": "2024-01-10T21:40:35.349008Z"
    }
   },
   "outputs": [
    {
     "name": "stdout",
     "output_type": "stream",
     "text": [
      "ExtremelyFastDecisionTreeClassifier, 0.8230, 0.4167, 0.4165\n"
     ]
    }
   ],
   "source": [
    "from river.tree import ExtremelyFastDecisionTreeClassifier\n",
    "\n",
    "river_EFDT = ExtremelyFastDecisionTreeClassifier()\n",
    "\n",
    "acc, wallclock, cpu_time, df = test_then_train_RIVER(dataset=river_elec_tiny, model=river_EFDT)\n",
    "print(f\"{river_EFDT}, {acc:.4f}, {wallclock:.4f}, {cpu_time:.4f}\")"
   ]
  },
  {
   "attachments": {},
   "cell_type": "markdown",
   "id": "15079978-5afa-4876-a0cc-ab0fcf3ab6ce",
   "metadata": {},
   "source": [
    "## Examples using MOA"
   ]
  },
  {
   "cell_type": "code",
   "execution_count": 10,
   "id": "af49a45b-767d-4532-bf39-f408d2ab515a",
   "metadata": {
    "execution": {
     "iopub.execute_input": "2024-01-10T21:40:35.351385Z",
     "iopub.status.busy": "2024-01-10T21:40:35.351245Z",
     "iopub.status.idle": "2024-01-10T21:40:35.387709Z",
     "shell.execute_reply": "2024-01-10T21:40:35.387207Z"
    }
   },
   "outputs": [],
   "source": [
    "# from moa.streams import ArffFileStream\n",
    "from capymoa.stream.stream import stream_from_file\n",
    "# from evaluation import test_then_train_evaluation\n",
    "\n",
    "elec_stream = stream_from_file(path_to_csv_or_arff=csv_elec_tiny_path, class_index=-1)"
   ]
  },
  {
   "cell_type": "code",
   "execution_count": 11,
   "id": "8b4a0ea7-8707-4bf3-8ce6-1f3a965497c0",
   "metadata": {
    "execution": {
     "iopub.execute_input": "2024-01-10T21:40:35.390530Z",
     "iopub.status.busy": "2024-01-10T21:40:35.390367Z",
     "iopub.status.idle": "2024-01-10T21:40:35.394976Z",
     "shell.execute_reply": "2024-01-10T21:40:35.394633Z"
    }
   },
   "outputs": [
    {
     "data": {
      "text/plain": [
       "['0', '1']"
      ]
     },
     "execution_count": 11,
     "metadata": {},
     "output_type": "execute_result"
    }
   ],
   "source": [
    "elec_stream.get_schema().label_values"
   ]
  },
  {
   "cell_type": "code",
   "execution_count": 12,
   "id": "9cf0778d-942f-44e2-bd79-e754e6c7735e",
   "metadata": {
    "execution": {
     "iopub.execute_input": "2024-01-10T21:40:35.396898Z",
     "iopub.status.busy": "2024-01-10T21:40:35.396753Z",
     "iopub.status.idle": "2024-01-10T21:40:35.978028Z",
     "shell.execute_reply": "2024-01-10T21:40:35.977132Z"
    }
   },
   "outputs": [
    {
     "name": "stdout",
     "output_type": "stream",
     "text": [
      "AdaptiveRandomForest wallclock: 0.5703258514404297 cpu_time: 2.069129 metrics: {'classified instances': 2000.0, 'classifications correct (percent)': 89.45, 'Kappa Statistic (percent)': 78.10294728102947, 'Kappa Temporal Statistic (percent)': 24.9110320284697, 'Kappa M Statistic (percent)': 73.2233502538071}\n"
     ]
    }
   ],
   "source": [
    "from capymoa.learner.classifier import AdaptiveRandomForest\n",
    "\n",
    "arf10 = AdaptiveRandomForest(schema=elec_stream.get_schema(), ensemble_size=5)\n",
    "results = test_then_train_evaluation(stream=elec_stream, learner=arf10)\n",
    "\n",
    "print(f\"{arf10} wallclock: {results['wallclock']} cpu_time: {results['cpu_time']} metrics: {results['cumulative']}\")"
   ]
  },
  {
   "cell_type": "code",
   "execution_count": 13,
   "id": "1270cf7b-3bf1-4092-9498-f5e6f91aea64",
   "metadata": {
    "execution": {
     "iopub.execute_input": "2024-01-10T21:40:35.981432Z",
     "iopub.status.busy": "2024-01-10T21:40:35.981207Z",
     "iopub.status.idle": "2024-01-10T21:40:36.043602Z",
     "shell.execute_reply": "2024-01-10T21:40:36.042767Z"
    }
   },
   "outputs": [
    {
     "name": "stdout",
     "output_type": "stream",
     "text": [
      "HoeffdingTree wallclock: 0.05756115913391113 cpu_time: 0.22951699999999775 metrics: {'classified instances': 2000.0, 'classifications correct (percent)': 82.65, 'Kappa Statistic (percent)': 64.11315010011087, 'Kappa Temporal Statistic (percent)': -23.487544483985793, 'Kappa M Statistic (percent)': 55.964467005076145}\n"
     ]
    }
   ],
   "source": [
    "from moa.classifiers.trees import HoeffdingTree\n",
    "from capymoa.learner import MOAClassifier\n",
    "\n",
    "ht_moa = MOAClassifier(moa_learner=HoeffdingTree())\n",
    "\n",
    "results = test_then_train_evaluation(stream=elec_stream, learner=ht_moa)\n",
    "print(f\"{ht_moa} wallclock: {results['wallclock']} cpu_time: {results['cpu_time']} metrics: {results['cumulative']}\")"
   ]
  },
  {
   "cell_type": "code",
   "execution_count": 14,
   "id": "c8ac0b21-a3bf-488b-b5cb-ce6289298ee1",
   "metadata": {
    "execution": {
     "iopub.execute_input": "2024-01-10T21:40:36.046641Z",
     "iopub.status.busy": "2024-01-10T21:40:36.046252Z",
     "iopub.status.idle": "2024-01-10T21:40:36.289414Z",
     "shell.execute_reply": "2024-01-10T21:40:36.287786Z"
    }
   },
   "outputs": [
    {
     "name": "stdout",
     "output_type": "stream",
     "text": [
      "kNN wallclock: 0.2357478141784668 cpu_time: 0.9588379999999983 metrics: {'classified instances': 2000.0, 'classifications correct (percent)': 80.55, 'Kappa Statistic (percent)': 59.525712097754244, 'Kappa Temporal Statistic (percent)': -38.43416370106766, 'Kappa M Statistic (percent)': 50.63451776649747}\n"
     ]
    }
   ],
   "source": [
    "from moa.classifiers.lazy import kNN\n",
    "\n",
    "knn_moa = MOAClassifier(moa_learner=kNN())\n",
    "\n",
    "results = test_then_train_evaluation(stream=elec_stream, learner=knn_moa)\n",
    "print(f\"{knn_moa} wallclock: {results['wallclock']} cpu_time: {results['cpu_time']} metrics: {results['cumulative']}\")"
   ]
  },
  {
   "cell_type": "code",
   "execution_count": 15,
   "id": "15ccd3c4-f0d6-479d-b773-df230cfdf2aa",
   "metadata": {
    "execution": {
     "iopub.execute_input": "2024-01-10T21:40:36.292455Z",
     "iopub.status.busy": "2024-01-10T21:40:36.292171Z",
     "iopub.status.idle": "2024-01-10T21:40:36.352539Z",
     "shell.execute_reply": "2024-01-10T21:40:36.351936Z"
    }
   },
   "outputs": [
    {
     "name": "stdout",
     "output_type": "stream",
     "text": [
      "EFDT wallclock: 0.055425405502319336 cpu_time: 0.23116999999999877 metrics: {'classified instances': 2000.0, 'classifications correct (percent)': 82.69999999999999, 'Kappa Statistic (percent)': 64.22426628726465, 'Kappa Temporal Statistic (percent)': -23.131672597864835, 'Kappa M Statistic (percent)': 56.09137055837563}\n"
     ]
    }
   ],
   "source": [
    "from moa.classifiers.trees import EFDT\n",
    "\n",
    "EFDT_moa = MOAClassifier(moa_learner=EFDT())\n",
    "\n",
    "results = test_then_train_evaluation(stream=elec_stream, learner=EFDT_moa)\n",
    "print(f\"{EFDT_moa} wallclock: {results['wallclock']} cpu_time: {results['cpu_time']} metrics: {results['cumulative']}\")"
   ]
  },
  {
   "cell_type": "code",
   "execution_count": 16,
   "id": "e264098a-588a-456b-ae11-dced5b5ceb7f",
   "metadata": {
    "execution": {
     "iopub.execute_input": "2024-01-10T21:40:36.354934Z",
     "iopub.status.busy": "2024-01-10T21:40:36.354687Z",
     "iopub.status.idle": "2024-01-10T21:40:36.402357Z",
     "shell.execute_reply": "2024-01-10T21:40:36.401810Z"
    }
   },
   "outputs": [
    {
     "name": "stdout",
     "output_type": "stream",
     "text": [
      "NaiveBayes wallclock: 0.041938066482543945 cpu_time: 0.16296099999999925 metrics: {'classified instances': 2000.0, 'classifications correct (percent)': 84.0, 'Kappa Statistic (percent)': 66.56748353448563, 'Kappa Temporal Statistic (percent)': -13.879003558718917, 'Kappa M Statistic (percent)': 59.39086294416243}\n"
     ]
    }
   ],
   "source": [
    "from moa.classifiers.bayes import NaiveBayes\n",
    "\n",
    "NaiveBayes_moa = MOAClassifier(moa_learner=NaiveBayes())\n",
    "\n",
    "results = test_then_train_evaluation(stream=elec_stream, learner=NaiveBayes_moa)\n",
    "print(f\"{NaiveBayes_moa} wallclock: {results['wallclock']} cpu_time: {results['cpu_time']} metrics: {results['cumulative']}\")"
   ]
  },
  {
   "cell_type": "code",
   "execution_count": 17,
   "id": "6fa952e8-08e3-4e6f-88ad-dac1aaea94ef",
   "metadata": {
    "execution": {
     "iopub.execute_input": "2024-01-10T21:40:36.404894Z",
     "iopub.status.busy": "2024-01-10T21:40:36.404673Z",
     "iopub.status.idle": "2024-01-10T21:40:36.975354Z",
     "shell.execute_reply": "2024-01-10T21:40:36.974695Z"
    }
   },
   "outputs": [
    {
     "name": "stdout",
     "output_type": "stream",
     "text": [
      "StreamingRandomPatches wallclock: 0.565244197845459 cpu_time: 1.9068369999999994 metrics: {'classified instances': 2000.0, 'classifications correct (percent)': 88.75, 'Kappa Statistic (percent)': 76.35402128768642, 'Kappa Temporal Statistic (percent)': 19.928825622775744, 'Kappa M Statistic (percent)': 71.4467005076142}\n"
     ]
    }
   ],
   "source": [
    "from moa.classifiers.meta import StreamingRandomPatches\n",
    "\n",
    "SRP_moa = MOAClassifier(moa_learner=StreamingRandomPatches(), CLI=\"-s 5 -u\")\n",
    "\n",
    "results = test_then_train_evaluation(stream=elec_stream, learner=SRP_moa)\n",
    "print(f\"{SRP_moa} wallclock: {results['wallclock']} cpu_time: {results['cpu_time']} metrics: {results['cumulative']}\")"
   ]
  }
 ],
 "metadata": {
  "kernelspec": {
   "display_name": "Python 3 (ipykernel)",
   "language": "python",
   "name": "python3"
  },
  "language_info": {
   "codemirror_mode": {
    "name": "ipython",
    "version": 3
   },
   "file_extension": ".py",
   "mimetype": "text/x-python",
   "name": "python",
   "nbconvert_exporter": "python",
   "pygments_lexer": "ipython3",
   "version": "3.9.18"
  }
 },
 "nbformat": 4,
 "nbformat_minor": 5
}
