{
 "cells": [
  {
   "attachments": {},
   "cell_type": "markdown",
   "id": "14c5519e-9c3a-4602-ae82-ac0914114b7d",
   "metadata": {},
   "source": [
    "## Testing efficient methods for evaluation\n",
    "\n",
    "* Using prequential, test-then-train and windowed evaluation. We show how the *_fast versions can performance. \n",
    "* The *_fast methods rely on the MOA implementation ```PrequentialEvaluation(stream, learner, ...)``` from ```moa.evaluation.EfficientEvaluationLoops```\n",
    "* Performance may be affected due to data reading and where data sits (i.e. in memory or in disk).\n",
    "  * When working with CSV files, the conversion process involves using NumpyStream, resulting in data being stored in memory as an Instances object (ARFF). As a result, the *_fast evaluation methods do not yield any performance improvement.\n",
    "  * When ARFF files are employed, the data resides on disk, and each call to ```next_instance()``` necessitates reading a new row from the file. This can be perceived as a potential bottleneck, and future implementations could explore ways to enhance data access efficiency (like caching).\n",
    "\n",
    "* [EXPERIMENTAL] Changed the behavior of *_evaluation() and *_evaluation_fast() such that if NumpyStream is used, then defaults to *_evaluation() and if not, *_evaluation_fast() is used. **Setting optimise=False disables this behavior.**\n",
    "\n",
    "**Notebook last updated on 08/12/2023**"
   ]
  },
  {
   "attachments": {},
   "cell_type": "markdown",
   "id": "0ca1a249-6141-40a4-9f1c-a7c05482fed7",
   "metadata": {},
   "source": [
    "# File paths"
   ]
  },
  {
   "cell_type": "code",
   "execution_count": 1,
   "id": "fad18e8c-21a5-4e56-84a4-c83102e890df",
   "metadata": {
    "execution": {
     "iopub.execute_input": "2024-01-10T21:42:04.398456Z",
     "iopub.status.busy": "2024-01-10T21:42:04.397804Z",
     "iopub.status.idle": "2024-01-10T21:42:04.417721Z",
     "shell.execute_reply": "2024-01-10T21:42:04.415627Z"
    }
   },
   "outputs": [],
   "source": [
    "hyper_arff_file_path = '../data/Hyper100k.arff'\n",
    "# Stream with 580k instances and around 100 features (csv)\n",
    "covtfd_arff_file_path = '../data/covtFD.arff'\n",
    "covtfd_csv_file_path = '../data/covtFD.csv'"
   ]
  },
  {
   "attachments": {},
   "cell_type": "markdown",
   "id": "84134502-b044-485c-99b9-c6e7240f3b47",
   "metadata": {},
   "source": [
    "## Real stream (arff) with 100k and ARF\n",
    "\n",
    "```EvaluatePrequential -l (meta.AdaptiveRandomForest -l (ARFHoeffdingTree -k 6 -e 2000000 -g 50 -c 0.01) -s 30 -x (ADWINChangeDetector -a 0.001) -p (ADWINChangeDetector -a 0.01)) -s (ArffFileStream -f /Users/gomeshe/Desktop/data/Hyper100k.arff) -e BasicClassificationPerformanceEvaluator -f 1000000```"
   ]
  },
  {
   "cell_type": "code",
   "execution_count": 2,
   "id": "5309a603-5a17-4a21-aeae-5cca3b64537c",
   "metadata": {
    "execution": {
     "iopub.execute_input": "2024-01-10T21:42:04.425652Z",
     "iopub.status.busy": "2024-01-10T21:42:04.425025Z",
     "iopub.status.idle": "2024-01-10T21:42:44.302218Z",
     "shell.execute_reply": "2024-01-10T21:42:44.301747Z"
    }
   },
   "outputs": [
    {
     "name": "stdout",
     "output_type": "stream",
     "text": [
      "capymoa_root: /home/antonlee/github.com/tachyonicClock/MOABridge/src/capymoa\n",
      "MOA jar path location (config.ini): jar/moa.jar\n",
      "JVM Location (system): \n",
      "JAVA_HOME: /usr/lib/jvm/java-17-openjdk\n",
      "JVM args: ['-Xmx8g', '-Xss10M']\n",
      "Sucessfully started the JVM and added MOA jar to the class path\n"
     ]
    },
    {
     "data": {
      "text/plain": [
       "{'learner': 'AdaptiveRandomForest',\n",
       " 'cumulative': <capymoa.evaluation.evaluation.ClassificationEvaluator at 0x7f5f45dce580>,\n",
       " 'wallclock': 39.120577573776245,\n",
       " 'cpu_time': 51.25991}"
      ]
     },
     "metadata": {},
     "output_type": "display_data"
    },
    {
     "data": {
      "text/html": [
       "<div>\n",
       "<style scoped>\n",
       "    .dataframe tbody tr th:only-of-type {\n",
       "        vertical-align: middle;\n",
       "    }\n",
       "\n",
       "    .dataframe tbody tr th {\n",
       "        vertical-align: top;\n",
       "    }\n",
       "\n",
       "    .dataframe thead th {\n",
       "        text-align: right;\n",
       "    }\n",
       "</style>\n",
       "<table border=\"1\" class=\"dataframe\">\n",
       "  <thead>\n",
       "    <tr style=\"text-align: right;\">\n",
       "      <th></th>\n",
       "      <th>classified instances</th>\n",
       "      <th>classifications correct (percent)</th>\n",
       "      <th>Kappa Statistic (percent)</th>\n",
       "      <th>Kappa Temporal Statistic (percent)</th>\n",
       "      <th>Kappa M Statistic (percent)</th>\n",
       "    </tr>\n",
       "  </thead>\n",
       "  <tbody>\n",
       "  </tbody>\n",
       "</table>\n",
       "</div>"
      ],
      "text/plain": [
       "Empty DataFrame\n",
       "Columns: [classified instances, classifications correct (percent), Kappa Statistic (percent), Kappa Temporal Statistic (percent), Kappa M Statistic (percent)]\n",
       "Index: []"
      ]
     },
     "metadata": {},
     "output_type": "display_data"
    },
    {
     "name": "stdout",
     "output_type": "stream",
     "text": [
      "87.5\n"
     ]
    }
   ],
   "source": [
    "from capymoa.stream.stream import stream_from_file\n",
    "from capymoa.evaluation import test_then_train_evaluation_fast\n",
    "from capymoa.learner.classifier import AdaptiveRandomForest\n",
    "\n",
    "learner = AdaptiveRandomForest(ensemble_size=30)\n",
    "\n",
    "stream = stream_from_file(path_to_csv_or_arff=hyper_arff_file_path, class_index=-1)\n",
    "\n",
    "results = test_then_train_evaluation_fast(stream=stream, learner=learner, max_instances=None, sample_frequency=None)\n",
    "\n",
    "display(results)\n",
    "display(results['cumulative'].metrics_per_window())\n",
    "print(results['cumulative'].accuracy())"
   ]
  },
  {
   "cell_type": "code",
   "execution_count": 3,
   "id": "e43c35c9-4baa-4929-bd3d-f385ff547379",
   "metadata": {
    "execution": {
     "iopub.execute_input": "2024-01-10T21:42:44.304013Z",
     "iopub.status.busy": "2024-01-10T21:42:44.303850Z",
     "iopub.status.idle": "2024-01-10T21:43:27.049264Z",
     "shell.execute_reply": "2024-01-10T21:43:27.048872Z"
    }
   },
   "outputs": [
    {
     "data": {
      "text/plain": [
       "{'learner': 'AdaptiveRandomForest',\n",
       " 'cumulative': <capymoa.evaluation.evaluation.ClassificationEvaluator at 0x7f5f4010d8b0>,\n",
       " 'wallclock': 42.73572397232056,\n",
       " 'cpu_time': 47.420534}"
      ]
     },
     "metadata": {},
     "output_type": "display_data"
    },
    {
     "data": {
      "text/html": [
       "<div>\n",
       "<style scoped>\n",
       "    .dataframe tbody tr th:only-of-type {\n",
       "        vertical-align: middle;\n",
       "    }\n",
       "\n",
       "    .dataframe tbody tr th {\n",
       "        vertical-align: top;\n",
       "    }\n",
       "\n",
       "    .dataframe thead th {\n",
       "        text-align: right;\n",
       "    }\n",
       "</style>\n",
       "<table border=\"1\" class=\"dataframe\">\n",
       "  <thead>\n",
       "    <tr style=\"text-align: right;\">\n",
       "      <th></th>\n",
       "      <th>classified instances</th>\n",
       "      <th>classifications correct (percent)</th>\n",
       "      <th>Kappa Statistic (percent)</th>\n",
       "      <th>Kappa Temporal Statistic (percent)</th>\n",
       "      <th>Kappa M Statistic (percent)</th>\n",
       "    </tr>\n",
       "  </thead>\n",
       "  <tbody>\n",
       "  </tbody>\n",
       "</table>\n",
       "</div>"
      ],
      "text/plain": [
       "Empty DataFrame\n",
       "Columns: [classified instances, classifications correct (percent), Kappa Statistic (percent), Kappa Temporal Statistic (percent), Kappa M Statistic (percent)]\n",
       "Index: []"
      ]
     },
     "metadata": {},
     "output_type": "display_data"
    },
    {
     "name": "stdout",
     "output_type": "stream",
     "text": [
      "87.5\n"
     ]
    }
   ],
   "source": [
    "from capymoa.stream.stream import stream_from_file\n",
    "from capymoa.evaluation import test_then_train_evaluation\n",
    "from capymoa.learner.classifier import AdaptiveRandomForest\n",
    "\n",
    "learner = AdaptiveRandomForest(ensemble_size=30)\n",
    "\n",
    "stream = stream_from_file(path_to_csv_or_arff=hyper_arff_file_path, class_index=-1)\n",
    "\n",
    "results = test_then_train_evaluation(stream=stream, learner=learner, max_instances=None, sample_frequency=None, optimise=False)\n",
    "\n",
    "display(results)\n",
    "display(results['cumulative'].metrics_per_window())\n",
    "print(results['cumulative'].accuracy())"
   ]
  },
  {
   "attachments": {},
   "cell_type": "markdown",
   "id": "bafd498b-c680-4f86-bf0b-26533c2fa44b",
   "metadata": {},
   "source": [
    "## Synthetic 10kk stream (RTG) with Naive Bayes\n",
    "\n",
    "```EvaluatePrequential -l bayes.NaiveBayes -e BasicClassificationPerformanceEvaluator -i 10000000 -f 10000000```\n",
    "* Using a synthetic generator with a massive amount of instances (e.g. 10 million) has a huge impact whether we use the fast or *python* version of the evaluation. It goes from 12s to 140s/150s.  "
   ]
  },
  {
   "cell_type": "code",
   "execution_count": 4,
   "id": "25c758bb-886a-4b22-b268-165aa1b71a56",
   "metadata": {
    "execution": {
     "iopub.execute_input": "2024-01-10T21:43:27.051145Z",
     "iopub.status.busy": "2024-01-10T21:43:27.050983Z",
     "iopub.status.idle": "2024-01-10T21:43:33.948311Z",
     "shell.execute_reply": "2024-01-10T21:43:33.947958Z"
    }
   },
   "outputs": [
    {
     "data": {
      "text/plain": [
       "{'learner': 'NaiveBayes',\n",
       " 'cumulative': <capymoa.evaluation.evaluation.ClassificationEvaluator at 0x7f5f441ff610>,\n",
       " 'wallclock': 6.884829044342041,\n",
       " 'cpu_time': 7.420822999999999}"
      ]
     },
     "metadata": {},
     "output_type": "display_data"
    },
    {
     "data": {
      "text/html": [
       "<div>\n",
       "<style scoped>\n",
       "    .dataframe tbody tr th:only-of-type {\n",
       "        vertical-align: middle;\n",
       "    }\n",
       "\n",
       "    .dataframe tbody tr th {\n",
       "        vertical-align: top;\n",
       "    }\n",
       "\n",
       "    .dataframe thead th {\n",
       "        text-align: right;\n",
       "    }\n",
       "</style>\n",
       "<table border=\"1\" class=\"dataframe\">\n",
       "  <thead>\n",
       "    <tr style=\"text-align: right;\">\n",
       "      <th></th>\n",
       "      <th>classified instances</th>\n",
       "      <th>classifications correct (percent)</th>\n",
       "      <th>Kappa Statistic (percent)</th>\n",
       "      <th>Kappa Temporal Statistic (percent)</th>\n",
       "      <th>Kappa M Statistic (percent)</th>\n",
       "    </tr>\n",
       "  </thead>\n",
       "  <tbody>\n",
       "  </tbody>\n",
       "</table>\n",
       "</div>"
      ],
      "text/plain": [
       "Empty DataFrame\n",
       "Columns: [classified instances, classifications correct (percent), Kappa Statistic (percent), Kappa Temporal Statistic (percent), Kappa M Statistic (percent)]\n",
       "Index: []"
      ]
     },
     "metadata": {},
     "output_type": "display_data"
    },
    {
     "name": "stdout",
     "output_type": "stream",
     "text": [
      "73.64807\n"
     ]
    }
   ],
   "source": [
    "from capymoa.stream.stream import RandomTreeGenerator\n",
    "from capymoa.learner import MOAClassifier\n",
    "from capymoa.evaluation import test_then_train_evaluation_fast\n",
    "from moa.classifiers.bayes import NaiveBayes\n",
    "\n",
    "learner = MOAClassifier(moa_learner=NaiveBayes())\n",
    "stream = RandomTreeGenerator()\n",
    "\n",
    "results = test_then_train_evaluation_fast(stream=stream, learner=learner, max_instances=10000000, sample_frequency=None)\n",
    "\n",
    "display(results)\n",
    "display(results['cumulative'].metrics_per_window())\n",
    "print(results['cumulative'].accuracy())"
   ]
  },
  {
   "cell_type": "code",
   "execution_count": 5,
   "id": "d72711dd-0300-416a-a893-0ea2c72a7661",
   "metadata": {
    "execution": {
     "iopub.execute_input": "2024-01-10T21:43:33.950048Z",
     "iopub.status.busy": "2024-01-10T21:43:33.949917Z",
     "iopub.status.idle": "2024-01-10T21:46:10.855125Z",
     "shell.execute_reply": "2024-01-10T21:46:10.854774Z"
    }
   },
   "outputs": [
    {
     "data": {
      "text/plain": [
       "{'learner': 'NaiveBayes',\n",
       " 'cumulative': <capymoa.evaluation.evaluation.ClassificationEvaluator at 0x7f5eb4f0ac10>,\n",
       " 'wallclock': 156.89642763137817,\n",
       " 'cpu_time': 157.20156599999999}"
      ]
     },
     "metadata": {},
     "output_type": "display_data"
    },
    {
     "data": {
      "text/html": [
       "<div>\n",
       "<style scoped>\n",
       "    .dataframe tbody tr th:only-of-type {\n",
       "        vertical-align: middle;\n",
       "    }\n",
       "\n",
       "    .dataframe tbody tr th {\n",
       "        vertical-align: top;\n",
       "    }\n",
       "\n",
       "    .dataframe thead th {\n",
       "        text-align: right;\n",
       "    }\n",
       "</style>\n",
       "<table border=\"1\" class=\"dataframe\">\n",
       "  <thead>\n",
       "    <tr style=\"text-align: right;\">\n",
       "      <th></th>\n",
       "      <th>classified instances</th>\n",
       "      <th>classifications correct (percent)</th>\n",
       "      <th>Kappa Statistic (percent)</th>\n",
       "      <th>Kappa Temporal Statistic (percent)</th>\n",
       "      <th>Kappa M Statistic (percent)</th>\n",
       "    </tr>\n",
       "  </thead>\n",
       "  <tbody>\n",
       "  </tbody>\n",
       "</table>\n",
       "</div>"
      ],
      "text/plain": [
       "Empty DataFrame\n",
       "Columns: [classified instances, classifications correct (percent), Kappa Statistic (percent), Kappa Temporal Statistic (percent), Kappa M Statistic (percent)]\n",
       "Index: []"
      ]
     },
     "metadata": {},
     "output_type": "display_data"
    },
    {
     "name": "stdout",
     "output_type": "stream",
     "text": [
      "73.64807\n"
     ]
    }
   ],
   "source": [
    "from capymoa.stream.stream import RandomTreeGenerator\n",
    "from capymoa.learner.learners import MOAClassifier\n",
    "from capymoa.evaluation import test_then_train_evaluation\n",
    "from moa.classifiers.bayes import NaiveBayes\n",
    "\n",
    "learner = MOAClassifier(moa_learner=NaiveBayes())\n",
    "stream = RandomTreeGenerator()\n",
    "\n",
    "results = test_then_train_evaluation(stream=stream, learner=learner, max_instances=10000000, sample_frequency=None, optimise=False)\n",
    "\n",
    "display(results)\n",
    "display(results['cumulative'].metrics_per_window())\n",
    "print(results['cumulative'].accuracy())"
   ]
  },
  {
   "attachments": {},
   "cell_type": "markdown",
   "id": "35e3e8b9-b99e-40ef-9b79-5d90c9e98a3a",
   "metadata": {},
   "source": [
    "## Real stream (covtFD) 580k+ instances with more than 100 features. \n",
    "\n",
    "* Using an arff file (which triggers ARFFFileReader internally) shows a 20% improvement in run time when using the fast version in comparison to the *python* one. It goes from 40s to 50s. "
   ]
  },
  {
   "cell_type": "code",
   "execution_count": 6,
   "id": "ea5082e4-a58d-4bdf-b7d5-d5fe4de7e50b",
   "metadata": {
    "execution": {
     "iopub.execute_input": "2024-01-10T21:46:10.857005Z",
     "iopub.status.busy": "2024-01-10T21:46:10.856868Z",
     "iopub.status.idle": "2024-01-10T21:46:45.664162Z",
     "shell.execute_reply": "2024-01-10T21:46:45.663669Z"
    }
   },
   "outputs": [
    {
     "data": {
      "text/plain": [
       "{'learner': 'NaiveBayes',\n",
       " 'cumulative': <capymoa.evaluation.evaluation.ClassificationEvaluator at 0x7f5f441ff610>,\n",
       " 'wallclock': 34.795207500457764,\n",
       " 'cpu_time': 35.897785999999996}"
      ]
     },
     "metadata": {},
     "output_type": "display_data"
    },
    {
     "data": {
      "text/html": [
       "<div>\n",
       "<style scoped>\n",
       "    .dataframe tbody tr th:only-of-type {\n",
       "        vertical-align: middle;\n",
       "    }\n",
       "\n",
       "    .dataframe tbody tr th {\n",
       "        vertical-align: top;\n",
       "    }\n",
       "\n",
       "    .dataframe thead th {\n",
       "        text-align: right;\n",
       "    }\n",
       "</style>\n",
       "<table border=\"1\" class=\"dataframe\">\n",
       "  <thead>\n",
       "    <tr style=\"text-align: right;\">\n",
       "      <th></th>\n",
       "      <th>classified instances</th>\n",
       "      <th>classifications correct (percent)</th>\n",
       "      <th>Kappa Statistic (percent)</th>\n",
       "      <th>Kappa Temporal Statistic (percent)</th>\n",
       "      <th>Kappa M Statistic (percent)</th>\n",
       "    </tr>\n",
       "  </thead>\n",
       "  <tbody>\n",
       "  </tbody>\n",
       "</table>\n",
       "</div>"
      ],
      "text/plain": [
       "Empty DataFrame\n",
       "Columns: [classified instances, classifications correct (percent), Kappa Statistic (percent), Kappa Temporal Statistic (percent), Kappa M Statistic (percent)]\n",
       "Index: []"
      ]
     },
     "metadata": {},
     "output_type": "display_data"
    },
    {
     "name": "stdout",
     "output_type": "stream",
     "text": [
      "52.24272862303812\n"
     ]
    }
   ],
   "source": [
    "from capymoa.stream.stream import stream_from_file\n",
    "from capymoa.learner.learners import MOAClassifier\n",
    "from capymoa.evaluation import test_then_train_evaluation_fast\n",
    "from moa.classifiers.bayes import NaiveBayes\n",
    "\n",
    "learner = MOAClassifier(moa_learner=NaiveBayes())\n",
    "\n",
    "stream = stream_from_file(path_to_csv_or_arff=covtfd_arff_file_path, class_index=-1)\n",
    "\n",
    "results = test_then_train_evaluation_fast(stream=stream, learner=learner, max_instances=None, sample_frequency=None)\n",
    "\n",
    "display(results)\n",
    "display(results['cumulative'].metrics_per_window())\n",
    "print(results['cumulative'].accuracy())"
   ]
  },
  {
   "cell_type": "code",
   "execution_count": 7,
   "id": "2e1daa17-d5f4-434b-80ab-fc7b0b96918a",
   "metadata": {
    "execution": {
     "iopub.execute_input": "2024-01-10T21:46:45.666790Z",
     "iopub.status.busy": "2024-01-10T21:46:45.666413Z",
     "iopub.status.idle": "2024-01-10T21:47:33.771987Z",
     "shell.execute_reply": "2024-01-10T21:47:33.771526Z"
    }
   },
   "outputs": [
    {
     "data": {
      "text/plain": [
       "{'learner': 'NaiveBayes',\n",
       " 'cumulative': <capymoa.evaluation.evaluation.ClassificationEvaluator at 0x7f5f4011d040>,\n",
       " 'wallclock': 48.09580206871033,\n",
       " 'cpu_time': 48.080466}"
      ]
     },
     "metadata": {},
     "output_type": "display_data"
    },
    {
     "data": {
      "text/html": [
       "<div>\n",
       "<style scoped>\n",
       "    .dataframe tbody tr th:only-of-type {\n",
       "        vertical-align: middle;\n",
       "    }\n",
       "\n",
       "    .dataframe tbody tr th {\n",
       "        vertical-align: top;\n",
       "    }\n",
       "\n",
       "    .dataframe thead th {\n",
       "        text-align: right;\n",
       "    }\n",
       "</style>\n",
       "<table border=\"1\" class=\"dataframe\">\n",
       "  <thead>\n",
       "    <tr style=\"text-align: right;\">\n",
       "      <th></th>\n",
       "      <th>classified instances</th>\n",
       "      <th>classifications correct (percent)</th>\n",
       "      <th>Kappa Statistic (percent)</th>\n",
       "      <th>Kappa Temporal Statistic (percent)</th>\n",
       "      <th>Kappa M Statistic (percent)</th>\n",
       "    </tr>\n",
       "  </thead>\n",
       "  <tbody>\n",
       "  </tbody>\n",
       "</table>\n",
       "</div>"
      ],
      "text/plain": [
       "Empty DataFrame\n",
       "Columns: [classified instances, classifications correct (percent), Kappa Statistic (percent), Kappa Temporal Statistic (percent), Kappa M Statistic (percent)]\n",
       "Index: []"
      ]
     },
     "metadata": {},
     "output_type": "display_data"
    },
    {
     "name": "stdout",
     "output_type": "stream",
     "text": [
      "52.24272862303812\n"
     ]
    }
   ],
   "source": [
    "from capymoa.stream.stream import stream_from_file\n",
    "from capymoa.learner.learners import MOAClassifier\n",
    "from capymoa.evaluation import test_then_train_evaluation\n",
    "from moa.classifiers.bayes import NaiveBayes\n",
    "\n",
    "learner = MOAClassifier(moa_learner=NaiveBayes())\n",
    "\n",
    "stream = stream_from_file(path_to_csv_or_arff=covtfd_arff_file_path, class_index=-1)\n",
    "\n",
    "results = test_then_train_evaluation(stream=stream, learner=learner, max_instances=None, sample_frequency=None, optimise=False)\n",
    "\n",
    "display(results)\n",
    "display(results['cumulative'].metrics_per_window())\n",
    "print(results['cumulative'].accuracy())"
   ]
  },
  {
   "attachments": {},
   "cell_type": "markdown",
   "id": "2e89117d-2fb3-42b4-b22b-897211d13bc1",
   "metadata": {},
   "source": [
    "# Testing  ```prequential_evaluation_fast``` \n",
    "## SRP100 + real dataset with 100k instances\n",
    "\n",
    "```EvaluatePrequential -l (meta.StreamingRandomPatches -s 100) -s (ArffFileStream -f ./data/RBFm/RBFm_100k.arff) -f 1000```\n",
    "* When using a more demanding classifier (such as StreamingRandomPatches with 100 learners) with an ARFF file the impact of the evaluation function becomes negligiable (obtained about the same wallclock time of 200s)."
   ]
  },
  {
   "cell_type": "code",
   "execution_count": 8,
   "id": "bd2fed86-8d0a-4d3d-a3bb-d84167013917",
   "metadata": {
    "execution": {
     "iopub.execute_input": "2024-01-10T21:47:33.773982Z",
     "iopub.status.busy": "2024-01-10T21:47:33.773849Z",
     "iopub.status.idle": "2024-01-10T21:50:08.286346Z",
     "shell.execute_reply": "2024-01-10T21:50:08.285614Z"
    }
   },
   "outputs": [
    {
     "data": {
      "text/plain": [
       "{'learner': 'StreamingRandomPatches',\n",
       " 'cumulative': <capymoa.evaluation.evaluation.ClassificationEvaluator at 0x7f5f401174f0>,\n",
       " 'windowed': <capymoa.evaluation.evaluation.ClassificationWindowedEvaluator at 0x7f5f40117700>,\n",
       " 'wallclock': 154.49833822250366,\n",
       " 'cpu_time': 178.15130800000003}"
      ]
     },
     "metadata": {},
     "output_type": "display_data"
    },
    {
     "data": {
      "text/html": [
       "<div>\n",
       "<style scoped>\n",
       "    .dataframe tbody tr th:only-of-type {\n",
       "        vertical-align: middle;\n",
       "    }\n",
       "\n",
       "    .dataframe tbody tr th {\n",
       "        vertical-align: top;\n",
       "    }\n",
       "\n",
       "    .dataframe thead th {\n",
       "        text-align: right;\n",
       "    }\n",
       "</style>\n",
       "<table border=\"1\" class=\"dataframe\">\n",
       "  <thead>\n",
       "    <tr style=\"text-align: right;\">\n",
       "      <th></th>\n",
       "      <th>classified instances</th>\n",
       "      <th>classifications correct (percent)</th>\n",
       "      <th>Kappa Statistic (percent)</th>\n",
       "      <th>Kappa Temporal Statistic (percent)</th>\n",
       "      <th>Kappa M Statistic (percent)</th>\n",
       "    </tr>\n",
       "  </thead>\n",
       "  <tbody>\n",
       "    <tr>\n",
       "      <th>0</th>\n",
       "      <td>10000.0</td>\n",
       "      <td>87.49</td>\n",
       "      <td>74.981221</td>\n",
       "      <td>75.039904</td>\n",
       "      <td>74.828974</td>\n",
       "    </tr>\n",
       "    <tr>\n",
       "      <th>1</th>\n",
       "      <td>20000.0</td>\n",
       "      <td>88.92</td>\n",
       "      <td>77.817008</td>\n",
       "      <td>78.107093</td>\n",
       "      <td>77.383139</td>\n",
       "    </tr>\n",
       "    <tr>\n",
       "      <th>2</th>\n",
       "      <td>30000.0</td>\n",
       "      <td>88.75</td>\n",
       "      <td>77.508214</td>\n",
       "      <td>77.468456</td>\n",
       "      <td>77.625298</td>\n",
       "    </tr>\n",
       "    <tr>\n",
       "      <th>3</th>\n",
       "      <td>40000.0</td>\n",
       "      <td>89.73</td>\n",
       "      <td>79.457096</td>\n",
       "      <td>79.731597</td>\n",
       "      <td>79.298529</td>\n",
       "    </tr>\n",
       "    <tr>\n",
       "      <th>4</th>\n",
       "      <td>50000.0</td>\n",
       "      <td>89.87</td>\n",
       "      <td>79.738788</td>\n",
       "      <td>80.172245</td>\n",
       "      <td>79.493927</td>\n",
       "    </tr>\n",
       "    <tr>\n",
       "      <th>5</th>\n",
       "      <td>60000.0</td>\n",
       "      <td>90.11</td>\n",
       "      <td>80.212371</td>\n",
       "      <td>80.032304</td>\n",
       "      <td>79.795710</td>\n",
       "    </tr>\n",
       "    <tr>\n",
       "      <th>6</th>\n",
       "      <td>70000.0</td>\n",
       "      <td>89.99</td>\n",
       "      <td>79.981108</td>\n",
       "      <td>79.931836</td>\n",
       "      <td>79.980000</td>\n",
       "    </tr>\n",
       "    <tr>\n",
       "      <th>7</th>\n",
       "      <td>80000.0</td>\n",
       "      <td>90.30</td>\n",
       "      <td>80.602637</td>\n",
       "      <td>80.727200</td>\n",
       "      <td>80.272524</td>\n",
       "    </tr>\n",
       "    <tr>\n",
       "      <th>8</th>\n",
       "      <td>90000.0</td>\n",
       "      <td>90.35</td>\n",
       "      <td>80.698068</td>\n",
       "      <td>80.330208</td>\n",
       "      <td>80.799841</td>\n",
       "    </tr>\n",
       "    <tr>\n",
       "      <th>9</th>\n",
       "      <td>100000.0</td>\n",
       "      <td>90.08</td>\n",
       "      <td>80.154084</td>\n",
       "      <td>80.227227</td>\n",
       "      <td>79.951496</td>\n",
       "    </tr>\n",
       "  </tbody>\n",
       "</table>\n",
       "</div>"
      ],
      "text/plain": [
       "   classified instances  classifications correct (percent)  \\\n",
       "0               10000.0                              87.49   \n",
       "1               20000.0                              88.92   \n",
       "2               30000.0                              88.75   \n",
       "3               40000.0                              89.73   \n",
       "4               50000.0                              89.87   \n",
       "5               60000.0                              90.11   \n",
       "6               70000.0                              89.99   \n",
       "7               80000.0                              90.30   \n",
       "8               90000.0                              90.35   \n",
       "9              100000.0                              90.08   \n",
       "\n",
       "   Kappa Statistic (percent)  Kappa Temporal Statistic (percent)  \\\n",
       "0                  74.981221                           75.039904   \n",
       "1                  77.817008                           78.107093   \n",
       "2                  77.508214                           77.468456   \n",
       "3                  79.457096                           79.731597   \n",
       "4                  79.738788                           80.172245   \n",
       "5                  80.212371                           80.032304   \n",
       "6                  79.981108                           79.931836   \n",
       "7                  80.602637                           80.727200   \n",
       "8                  80.698068                           80.330208   \n",
       "9                  80.154084                           80.227227   \n",
       "\n",
       "   Kappa M Statistic (percent)  \n",
       "0                    74.828974  \n",
       "1                    77.383139  \n",
       "2                    77.625298  \n",
       "3                    79.298529  \n",
       "4                    79.493927  \n",
       "5                    79.795710  \n",
       "6                    79.980000  \n",
       "7                    80.272524  \n",
       "8                    80.799841  \n",
       "9                    79.951496  "
      ]
     },
     "metadata": {},
     "output_type": "display_data"
    },
    {
     "name": "stdout",
     "output_type": "stream",
     "text": [
      "89.559\n"
     ]
    }
   ],
   "source": [
    "from capymoa.stream import stream_from_file\n",
    "from capymoa.learner import MOAClassifier\n",
    "from capymoa.evaluation import prequential_evaluation_fast\n",
    "from moa.classifiers.meta import StreamingRandomPatches\n",
    "\n",
    "cl_SRP = MOAClassifier(moa_learner=StreamingRandomPatches(), CLI='-s 100', random_seed=1)\n",
    "\n",
    "stream = stream_from_file(path_to_csv_or_arff=hyper_arff_file_path, class_index=-1)\n",
    "\n",
    "results = prequential_evaluation_fast(stream=stream, learner=cl_SRP, max_instances=None, window_size=10000)\n",
    "\n",
    "display(results)\n",
    "display(results['windowed'].metrics_per_window())\n",
    "print(results['cumulative'].accuracy())"
   ]
  },
  {
   "cell_type": "code",
   "execution_count": 9,
   "id": "5178f3b9-9168-408a-950b-64d196d153d9",
   "metadata": {
    "execution": {
     "iopub.execute_input": "2024-01-10T21:50:08.288876Z",
     "iopub.status.busy": "2024-01-10T21:50:08.288709Z",
     "iopub.status.idle": "2024-01-10T21:52:48.408573Z",
     "shell.execute_reply": "2024-01-10T21:52:48.408180Z"
    }
   },
   "outputs": [
    {
     "data": {
      "text/plain": [
       "{'learner': 'StreamingRandomPatches',\n",
       " 'cumulative': <capymoa.evaluation.evaluation.ClassificationEvaluator at 0x7f5f40117760>,\n",
       " 'windowed': <capymoa.evaluation.evaluation.ClassificationWindowedEvaluator at 0x7f5f40117e50>,\n",
       " 'wallclock': 160.10862493515015,\n",
       " 'cpu_time': 180.73510299999998}"
      ]
     },
     "metadata": {},
     "output_type": "display_data"
    },
    {
     "data": {
      "text/html": [
       "<div>\n",
       "<style scoped>\n",
       "    .dataframe tbody tr th:only-of-type {\n",
       "        vertical-align: middle;\n",
       "    }\n",
       "\n",
       "    .dataframe tbody tr th {\n",
       "        vertical-align: top;\n",
       "    }\n",
       "\n",
       "    .dataframe thead th {\n",
       "        text-align: right;\n",
       "    }\n",
       "</style>\n",
       "<table border=\"1\" class=\"dataframe\">\n",
       "  <thead>\n",
       "    <tr style=\"text-align: right;\">\n",
       "      <th></th>\n",
       "      <th>classified instances</th>\n",
       "      <th>classifications correct (percent)</th>\n",
       "      <th>Kappa Statistic (percent)</th>\n",
       "      <th>Kappa Temporal Statistic (percent)</th>\n",
       "      <th>Kappa M Statistic (percent)</th>\n",
       "    </tr>\n",
       "  </thead>\n",
       "  <tbody>\n",
       "    <tr>\n",
       "      <th>0</th>\n",
       "      <td>10000.0</td>\n",
       "      <td>87.49</td>\n",
       "      <td>74.981221</td>\n",
       "      <td>75.039904</td>\n",
       "      <td>74.828974</td>\n",
       "    </tr>\n",
       "    <tr>\n",
       "      <th>1</th>\n",
       "      <td>20000.0</td>\n",
       "      <td>88.92</td>\n",
       "      <td>77.817008</td>\n",
       "      <td>78.107093</td>\n",
       "      <td>77.383139</td>\n",
       "    </tr>\n",
       "    <tr>\n",
       "      <th>2</th>\n",
       "      <td>30000.0</td>\n",
       "      <td>88.75</td>\n",
       "      <td>77.508214</td>\n",
       "      <td>77.468456</td>\n",
       "      <td>77.625298</td>\n",
       "    </tr>\n",
       "    <tr>\n",
       "      <th>3</th>\n",
       "      <td>40000.0</td>\n",
       "      <td>89.73</td>\n",
       "      <td>79.457096</td>\n",
       "      <td>79.731597</td>\n",
       "      <td>79.298529</td>\n",
       "    </tr>\n",
       "    <tr>\n",
       "      <th>4</th>\n",
       "      <td>50000.0</td>\n",
       "      <td>89.87</td>\n",
       "      <td>79.738788</td>\n",
       "      <td>80.172245</td>\n",
       "      <td>79.493927</td>\n",
       "    </tr>\n",
       "    <tr>\n",
       "      <th>5</th>\n",
       "      <td>60000.0</td>\n",
       "      <td>90.11</td>\n",
       "      <td>80.212371</td>\n",
       "      <td>80.032304</td>\n",
       "      <td>79.795710</td>\n",
       "    </tr>\n",
       "    <tr>\n",
       "      <th>6</th>\n",
       "      <td>70000.0</td>\n",
       "      <td>89.99</td>\n",
       "      <td>79.981108</td>\n",
       "      <td>79.931836</td>\n",
       "      <td>79.980000</td>\n",
       "    </tr>\n",
       "    <tr>\n",
       "      <th>7</th>\n",
       "      <td>80000.0</td>\n",
       "      <td>90.30</td>\n",
       "      <td>80.602637</td>\n",
       "      <td>80.727200</td>\n",
       "      <td>80.272524</td>\n",
       "    </tr>\n",
       "    <tr>\n",
       "      <th>8</th>\n",
       "      <td>90000.0</td>\n",
       "      <td>90.35</td>\n",
       "      <td>80.698068</td>\n",
       "      <td>80.330208</td>\n",
       "      <td>80.799841</td>\n",
       "    </tr>\n",
       "    <tr>\n",
       "      <th>9</th>\n",
       "      <td>100000.0</td>\n",
       "      <td>90.08</td>\n",
       "      <td>80.154084</td>\n",
       "      <td>80.227227</td>\n",
       "      <td>79.951496</td>\n",
       "    </tr>\n",
       "  </tbody>\n",
       "</table>\n",
       "</div>"
      ],
      "text/plain": [
       "   classified instances  classifications correct (percent)  \\\n",
       "0               10000.0                              87.49   \n",
       "1               20000.0                              88.92   \n",
       "2               30000.0                              88.75   \n",
       "3               40000.0                              89.73   \n",
       "4               50000.0                              89.87   \n",
       "5               60000.0                              90.11   \n",
       "6               70000.0                              89.99   \n",
       "7               80000.0                              90.30   \n",
       "8               90000.0                              90.35   \n",
       "9              100000.0                              90.08   \n",
       "\n",
       "   Kappa Statistic (percent)  Kappa Temporal Statistic (percent)  \\\n",
       "0                  74.981221                           75.039904   \n",
       "1                  77.817008                           78.107093   \n",
       "2                  77.508214                           77.468456   \n",
       "3                  79.457096                           79.731597   \n",
       "4                  79.738788                           80.172245   \n",
       "5                  80.212371                           80.032304   \n",
       "6                  79.981108                           79.931836   \n",
       "7                  80.602637                           80.727200   \n",
       "8                  80.698068                           80.330208   \n",
       "9                  80.154084                           80.227227   \n",
       "\n",
       "   Kappa M Statistic (percent)  \n",
       "0                    74.828974  \n",
       "1                    77.383139  \n",
       "2                    77.625298  \n",
       "3                    79.298529  \n",
       "4                    79.493927  \n",
       "5                    79.795710  \n",
       "6                    79.980000  \n",
       "7                    80.272524  \n",
       "8                    80.799841  \n",
       "9                    79.951496  "
      ]
     },
     "metadata": {},
     "output_type": "display_data"
    },
    {
     "name": "stdout",
     "output_type": "stream",
     "text": [
      "89.559\n"
     ]
    }
   ],
   "source": [
    "from capymoa.stream import stream_from_file\n",
    "from capymoa.learner import MOAClassifier\n",
    "from capymoa.evaluation import prequential_evaluation\n",
    "from moa.classifiers.meta import StreamingRandomPatches\n",
    "\n",
    "cl_SRP = MOAClassifier(moa_learner=StreamingRandomPatches(), CLI='-s 100', random_seed=1)\n",
    "\n",
    "stream = stream_from_file(path_to_csv_or_arff=hyper_arff_file_path, class_index=-1)\n",
    "\n",
    "results = prequential_evaluation(stream=stream, learner=cl_SRP, max_instances=None, window_size=10000, optimise=False)\n",
    "\n",
    "display(results)\n",
    "display(results['windowed'].metrics_per_window())\n",
    "print(results['cumulative'].accuracy())"
   ]
  },
  {
   "attachments": {},
   "cell_type": "markdown",
   "id": "9b1d3d4b-0897-4359-83cf-caa099339e56",
   "metadata": {},
   "source": [
    "# Testing with a large CSV file"
   ]
  },
  {
   "attachments": {},
   "cell_type": "markdown",
   "id": "512cc601-5bed-4905-a24e-f88cc34690ec",
   "metadata": {},
   "source": [
    "* We can observe that there is not much difference between the evaluation functions when we are using the CSV which is eventually loaded to memory.\n",
    "* Loading the CSV to memory may take a while if it is a massive dataset (this one has about 600k instances and more than 100 features). "
   ]
  },
  {
   "cell_type": "code",
   "execution_count": 10,
   "id": "0691853a-2c5b-4f08-8098-38678dbf6cf1",
   "metadata": {
    "execution": {
     "iopub.execute_input": "2024-01-10T21:52:48.410445Z",
     "iopub.status.busy": "2024-01-10T21:52:48.410291Z",
     "iopub.status.idle": "2024-01-10T21:54:58.405017Z",
     "shell.execute_reply": "2024-01-10T21:54:58.404305Z"
    }
   },
   "outputs": [
    {
     "name": "stdout",
     "output_type": "stream",
     "text": [
      "CPU times: user 3min 58s, sys: 2.63 s, total: 4min 1s\n",
      "Wall time: 2min 9s\n"
     ]
    }
   ],
   "source": [
    "%%time\n",
    "from capymoa.stream import stream_from_file\n",
    "\n",
    "# Loads the csv data to memory, it should take from 1 minute to 2 minutes. \n",
    "stream = stream_from_file(path_to_csv_or_arff=covtfd_csv_file_path, class_index=-1)"
   ]
  },
  {
   "cell_type": "code",
   "execution_count": 11,
   "id": "d1241d2b-1a96-492d-9dde-a37396d04e3f",
   "metadata": {
    "execution": {
     "iopub.execute_input": "2024-01-10T21:54:58.406905Z",
     "iopub.status.busy": "2024-01-10T21:54:58.406772Z",
     "iopub.status.idle": "2024-01-10T21:55:18.784786Z",
     "shell.execute_reply": "2024-01-10T21:55:18.784459Z"
    }
   },
   "outputs": [
    {
     "data": {
      "text/plain": [
       "{'learner': 'NaiveBayes',\n",
       " 'cumulative': <capymoa.evaluation.evaluation.ClassificationEvaluator at 0x7f5f40117a90>,\n",
       " 'wallclock': 20.370754718780518,\n",
       " 'cpu_time': 20.368808999999942}"
      ]
     },
     "metadata": {},
     "output_type": "display_data"
    },
    {
     "data": {
      "text/html": [
       "<div>\n",
       "<style scoped>\n",
       "    .dataframe tbody tr th:only-of-type {\n",
       "        vertical-align: middle;\n",
       "    }\n",
       "\n",
       "    .dataframe tbody tr th {\n",
       "        vertical-align: top;\n",
       "    }\n",
       "\n",
       "    .dataframe thead th {\n",
       "        text-align: right;\n",
       "    }\n",
       "</style>\n",
       "<table border=\"1\" class=\"dataframe\">\n",
       "  <thead>\n",
       "    <tr style=\"text-align: right;\">\n",
       "      <th></th>\n",
       "      <th>classified instances</th>\n",
       "      <th>classifications correct (percent)</th>\n",
       "      <th>Kappa Statistic (percent)</th>\n",
       "      <th>Kappa Temporal Statistic (percent)</th>\n",
       "      <th>Kappa M Statistic (percent)</th>\n",
       "    </tr>\n",
       "  </thead>\n",
       "  <tbody>\n",
       "  </tbody>\n",
       "</table>\n",
       "</div>"
      ],
      "text/plain": [
       "Empty DataFrame\n",
       "Columns: [classified instances, classifications correct (percent), Kappa Statistic (percent), Kappa Temporal Statistic (percent), Kappa M Statistic (percent)]\n",
       "Index: []"
      ]
     },
     "metadata": {},
     "output_type": "display_data"
    },
    {
     "name": "stdout",
     "output_type": "stream",
     "text": [
      "57.97274061936866\n"
     ]
    }
   ],
   "source": [
    "from capymoa.learner import MOAClassifier\n",
    "from capymoa.evaluation import test_then_train_evaluation\n",
    "from moa.classifiers.bayes import NaiveBayes\n",
    "\n",
    "learner = MOAClassifier(moa_learner=NaiveBayes())\n",
    "\n",
    "results = test_then_train_evaluation_fast(stream=stream, learner=learner, max_instances=None, sample_frequency=None)\n",
    "\n",
    "display(results)\n",
    "display(results['cumulative'].metrics_per_window())\n",
    "print(results['cumulative'].accuracy())"
   ]
  },
  {
   "cell_type": "code",
   "execution_count": 12,
   "id": "2575e54c-fe55-40e7-863d-fe19f9a81170",
   "metadata": {
    "execution": {
     "iopub.execute_input": "2024-01-10T21:55:18.786415Z",
     "iopub.status.busy": "2024-01-10T21:55:18.786290Z",
     "iopub.status.idle": "2024-01-10T21:55:39.340278Z",
     "shell.execute_reply": "2024-01-10T21:55:39.339798Z"
    }
   },
   "outputs": [
    {
     "data": {
      "text/plain": [
       "{'learner': 'NaiveBayes',\n",
       " 'cumulative': <capymoa.evaluation.evaluation.ClassificationEvaluator at 0x7f5e6ed8a460>,\n",
       " 'wallclock': 20.54651188850403,\n",
       " 'cpu_time': 21.560857000000055}"
      ]
     },
     "metadata": {},
     "output_type": "display_data"
    },
    {
     "data": {
      "text/html": [
       "<div>\n",
       "<style scoped>\n",
       "    .dataframe tbody tr th:only-of-type {\n",
       "        vertical-align: middle;\n",
       "    }\n",
       "\n",
       "    .dataframe tbody tr th {\n",
       "        vertical-align: top;\n",
       "    }\n",
       "\n",
       "    .dataframe thead th {\n",
       "        text-align: right;\n",
       "    }\n",
       "</style>\n",
       "<table border=\"1\" class=\"dataframe\">\n",
       "  <thead>\n",
       "    <tr style=\"text-align: right;\">\n",
       "      <th></th>\n",
       "      <th>classified instances</th>\n",
       "      <th>classifications correct (percent)</th>\n",
       "      <th>Kappa Statistic (percent)</th>\n",
       "      <th>Kappa Temporal Statistic (percent)</th>\n",
       "      <th>Kappa M Statistic (percent)</th>\n",
       "    </tr>\n",
       "  </thead>\n",
       "  <tbody>\n",
       "  </tbody>\n",
       "</table>\n",
       "</div>"
      ],
      "text/plain": [
       "Empty DataFrame\n",
       "Columns: [classified instances, classifications correct (percent), Kappa Statistic (percent), Kappa Temporal Statistic (percent), Kappa M Statistic (percent)]\n",
       "Index: []"
      ]
     },
     "metadata": {},
     "output_type": "display_data"
    },
    {
     "name": "stdout",
     "output_type": "stream",
     "text": [
      "57.97274061936866\n"
     ]
    }
   ],
   "source": [
    "from capymoa.learner import MOAClassifier\n",
    "from capymoa.evaluation import test_then_train_evaluation\n",
    "from moa.classifiers.bayes import NaiveBayes\n",
    "\n",
    "learner = MOAClassifier(moa_learner=NaiveBayes())\n",
    "\n",
    "results = test_then_train_evaluation(stream=stream, learner=learner, max_instances=None, sample_frequency=None, optimise=False)\n",
    "\n",
    "display(results)\n",
    "display(results['cumulative'].metrics_per_window())\n",
    "print(results['cumulative'].accuracy())"
   ]
  },
  {
   "attachments": {},
   "cell_type": "markdown",
   "id": "8273d6e8-7c3b-4a0e-9cce-b9a09682da2c",
   "metadata": {},
   "source": [
    "## Using prequential_evaluation_fast"
   ]
  },
  {
   "cell_type": "code",
   "execution_count": 13,
   "id": "0391a974-8983-4a0e-93bc-f9e3f1e01945",
   "metadata": {
    "execution": {
     "iopub.execute_input": "2024-01-10T21:55:39.342226Z",
     "iopub.status.busy": "2024-01-10T21:55:39.342079Z",
     "iopub.status.idle": "2024-01-10T21:56:00.214388Z",
     "shell.execute_reply": "2024-01-10T21:56:00.213934Z"
    }
   },
   "outputs": [
    {
     "data": {
      "text/plain": [
       "{'learner': 'NaiveBayes',\n",
       " 'cumulative': <capymoa.evaluation.evaluation.ClassificationEvaluator at 0x7f5f40117490>,\n",
       " 'windowed': None,\n",
       " 'wallclock': 20.864585399627686,\n",
       " 'cpu_time': 20.857773000000066}"
      ]
     },
     "metadata": {},
     "output_type": "display_data"
    },
    {
     "data": {
      "text/html": [
       "<div>\n",
       "<style scoped>\n",
       "    .dataframe tbody tr th:only-of-type {\n",
       "        vertical-align: middle;\n",
       "    }\n",
       "\n",
       "    .dataframe tbody tr th {\n",
       "        vertical-align: top;\n",
       "    }\n",
       "\n",
       "    .dataframe thead th {\n",
       "        text-align: right;\n",
       "    }\n",
       "</style>\n",
       "<table border=\"1\" class=\"dataframe\">\n",
       "  <thead>\n",
       "    <tr style=\"text-align: right;\">\n",
       "      <th></th>\n",
       "      <th>classified instances</th>\n",
       "      <th>classifications correct (percent)</th>\n",
       "      <th>Kappa Statistic (percent)</th>\n",
       "      <th>Kappa Temporal Statistic (percent)</th>\n",
       "      <th>Kappa M Statistic (percent)</th>\n",
       "    </tr>\n",
       "  </thead>\n",
       "  <tbody>\n",
       "  </tbody>\n",
       "</table>\n",
       "</div>"
      ],
      "text/plain": [
       "Empty DataFrame\n",
       "Columns: [classified instances, classifications correct (percent), Kappa Statistic (percent), Kappa Temporal Statistic (percent), Kappa M Statistic (percent)]\n",
       "Index: []"
      ]
     },
     "metadata": {},
     "output_type": "display_data"
    },
    {
     "name": "stdout",
     "output_type": "stream",
     "text": [
      "57.97274061936866\n"
     ]
    }
   ],
   "source": [
    "from capymoa.learner import MOAClassifier\n",
    "from capymoa.evaluation import test_then_train_evaluation\n",
    "from moa.classifiers.bayes import NaiveBayes\n",
    "\n",
    "learner = MOAClassifier(moa_learner=NaiveBayes())\n",
    "\n",
    "results = prequential_evaluation_fast(stream=stream, learner=learner, max_instances=None, window_size=None)\n",
    "\n",
    "display(results)\n",
    "display(results['cumulative'].metrics_per_window())\n",
    "print(results['cumulative'].accuracy())"
   ]
  },
  {
   "cell_type": "code",
   "execution_count": 14,
   "id": "a4a61d6c-7524-4e74-a1af-e6cf63360e9f",
   "metadata": {
    "execution": {
     "iopub.execute_input": "2024-01-10T21:56:00.216134Z",
     "iopub.status.busy": "2024-01-10T21:56:00.216006Z",
     "iopub.status.idle": "2024-01-10T21:56:20.726287Z",
     "shell.execute_reply": "2024-01-10T21:56:20.725888Z"
    }
   },
   "outputs": [
    {
     "data": {
      "text/plain": [
       "{'learner': 'NaiveBayes',\n",
       " 'cumulative': <capymoa.evaluation.evaluation.ClassificationEvaluator at 0x7f5e6ed8a100>,\n",
       " 'windowed': None,\n",
       " 'wallclock': 20.503072023391724,\n",
       " 'cpu_time': 20.497254999999996}"
      ]
     },
     "metadata": {},
     "output_type": "display_data"
    },
    {
     "data": {
      "text/html": [
       "<div>\n",
       "<style scoped>\n",
       "    .dataframe tbody tr th:only-of-type {\n",
       "        vertical-align: middle;\n",
       "    }\n",
       "\n",
       "    .dataframe tbody tr th {\n",
       "        vertical-align: top;\n",
       "    }\n",
       "\n",
       "    .dataframe thead th {\n",
       "        text-align: right;\n",
       "    }\n",
       "</style>\n",
       "<table border=\"1\" class=\"dataframe\">\n",
       "  <thead>\n",
       "    <tr style=\"text-align: right;\">\n",
       "      <th></th>\n",
       "      <th>classified instances</th>\n",
       "      <th>classifications correct (percent)</th>\n",
       "      <th>Kappa Statistic (percent)</th>\n",
       "      <th>Kappa Temporal Statistic (percent)</th>\n",
       "      <th>Kappa M Statistic (percent)</th>\n",
       "    </tr>\n",
       "  </thead>\n",
       "  <tbody>\n",
       "  </tbody>\n",
       "</table>\n",
       "</div>"
      ],
      "text/plain": [
       "Empty DataFrame\n",
       "Columns: [classified instances, classifications correct (percent), Kappa Statistic (percent), Kappa Temporal Statistic (percent), Kappa M Statistic (percent)]\n",
       "Index: []"
      ]
     },
     "metadata": {},
     "output_type": "display_data"
    },
    {
     "name": "stdout",
     "output_type": "stream",
     "text": [
      "57.97274061936866\n"
     ]
    }
   ],
   "source": [
    "from capymoa.learner import MOAClassifier\n",
    "from capymoa.evaluation import test_then_train_evaluation\n",
    "from moa.classifiers.bayes import NaiveBayes\n",
    "\n",
    "learner = MOAClassifier(moa_learner=NaiveBayes())\n",
    "\n",
    "results = prequential_evaluation(stream=stream, learner=learner, max_instances=None, window_size=None, optimise=False)\n",
    "\n",
    "display(results)\n",
    "display(results['cumulative'].metrics_per_window())\n",
    "print(results['cumulative'].accuracy())"
   ]
  },
  {
   "cell_type": "code",
   "execution_count": null,
   "id": "7679f084-87cf-49b8-88c7-8afc54340acd",
   "metadata": {},
   "outputs": [],
   "source": []
  },
  {
   "cell_type": "code",
   "execution_count": null,
   "id": "1a8aa9fe-b6cb-4cf3-9210-79a2e549ca0f",
   "metadata": {},
   "outputs": [],
   "source": []
  }
 ],
 "metadata": {
  "kernelspec": {
   "display_name": "Python 3 (ipykernel)",
   "language": "python",
   "name": "python3"
  },
  "language_info": {
   "codemirror_mode": {
    "name": "ipython",
    "version": 3
   },
   "file_extension": ".py",
   "mimetype": "text/x-python",
   "name": "python",
   "nbconvert_exporter": "python",
   "pygments_lexer": "ipython3",
   "version": "3.9.18"
  }
 },
 "nbformat": 4,
 "nbformat_minor": 5
}
